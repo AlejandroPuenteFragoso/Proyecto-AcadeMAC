{
  "nbformat": 4,
  "nbformat_minor": 0,
  "metadata": {
    "colab": {
      "name": "Tipos de datos .ipynb",
      "provenance": [],
      "authorship_tag": "ABX9TyP3t+csmzBjGy3LfmcUY7nX",
      "include_colab_link": true
    },
    "kernelspec": {
      "name": "python3",
      "display_name": "Python 3"
    },
    "language_info": {
      "name": "python"
    }
  },
  "cells": [
    {
      "cell_type": "markdown",
      "metadata": {
        "id": "view-in-github",
        "colab_type": "text"
      },
      "source": [
        "<a href=\"https://colab.research.google.com/github/AlejandroPuenteFragoso/Proyecto-AcadeMAC/blob/main/Tipos_de_datos_.ipynb\" target=\"_parent\"><img src=\"https://colab.research.google.com/assets/colab-badge.svg\" alt=\"Open In Colab\"/></a>"
      ]
    },
    {
      "cell_type": "markdown",
      "source": [
        "#Tipos de datos en python\n",
        "##Ejercicio 1:\n",
        "Escribir un programa que muestre por pantalla la cadena ¡Hola Mundo!."
      ],
      "metadata": {
        "id": "z2iQ_GDb6vbF"
      }
    },
    {
      "cell_type": "code",
      "execution_count": null,
      "metadata": {
        "colab": {
          "base_uri": "https://localhost:8080/"
        },
        "id": "Q9wWeHNz6mii",
        "outputId": "ae643fea-9365-40ad-c36d-ca8c90de028d"
      },
      "outputs": [
        {
          "output_type": "stream",
          "name": "stdout",
          "text": [
            "¡Hola Mundo!\n"
          ]
        }
      ],
      "source": [
        "print('¡Hola Mundo!')"
      ]
    },
    {
      "cell_type": "markdown",
      "source": [
        "##Ejercicio 2:\n",
        "Escribir un programa que almacene la cadena ¡Hola Mundo! en una variable y luego muestre por pantalla el contenido de la variable."
      ],
      "metadata": {
        "id": "U3pk2D2v7UMd"
      }
    },
    {
      "cell_type": "code",
      "source": [
        "saludo=\"¡Hola Mundo!\"\n",
        "print(saludo)"
      ],
      "metadata": {
        "colab": {
          "base_uri": "https://localhost:8080/"
        },
        "id": "BnadjaB27Fkt",
        "outputId": "7ea881d8-9e2e-4d86-934c-363355b9ddc0"
      },
      "execution_count": null,
      "outputs": [
        {
          "output_type": "stream",
          "name": "stdout",
          "text": [
            "¡Hola Mundo!\n"
          ]
        }
      ]
    },
    {
      "cell_type": "markdown",
      "source": [
        "##Ejercicio 3:\n",
        "Escribir un programa que pregunte el nombre del usuario en la consola y después de que el usuario lo introduzca muestre por pantalla la cadena ¡Hola (nombre)!, donde (nombre) es el nombre que el usuario haya introducido."
      ],
      "metadata": {
        "id": "8idftUI87gZR"
      }
    },
    {
      "cell_type": "code",
      "source": [
        "Nombre= str(input(\"¿Cual es tu nombre? \"))\n",
        "print(\"¡Hola {}!\".format(Nombre))"
      ],
      "metadata": {
        "colab": {
          "base_uri": "https://localhost:8080/"
        },
        "id": "TAhyVVTs7eId",
        "outputId": "e0319e46-eaec-4c6b-a509-7471e35ef471"
      },
      "execution_count": null,
      "outputs": [
        {
          "output_type": "stream",
          "name": "stdout",
          "text": [
            "¿Cual es tu nombre? Alejandro\n",
            "¡Hola Alejandro!\n"
          ]
        }
      ]
    },
    {
      "cell_type": "markdown",
      "source": [
        "##Ejercicio 4:\n",
        "Escribir un programa que muestre por pantalla el resultado de la siguiente operación aritmética ((3+2)/(3.5))^2\n"
      ],
      "metadata": {
        "id": "jQ7eQODG9GGd"
      }
    },
    {
      "cell_type": "code",
      "source": [
        "print( ((3+2)/(2*5))**2 )"
      ],
      "metadata": {
        "colab": {
          "base_uri": "https://localhost:8080/"
        },
        "id": "eXucBvsh82B0",
        "outputId": "3573b9d6-37db-4f5a-d492-b3eed11929ea"
      },
      "execution_count": null,
      "outputs": [
        {
          "output_type": "stream",
          "name": "stdout",
          "text": [
            "0.25\n"
          ]
        }
      ]
    },
    {
      "cell_type": "markdown",
      "source": [
        "##Ejercicio 5:\n",
        "Escribir un programa que pregunte al usuario por el número de horas trabajadas y el coste por hora. Después debe mostrar por pantalla la paga que le corresponde."
      ],
      "metadata": {
        "id": "V_VZGdoR9wv3"
      }
    },
    {
      "cell_type": "code",
      "source": [
        "Horas = int(input(\"¿Cuantas horas trabajaste? \"))\n",
        "PagoPorHora = float(input(\"¿Cual es tu pago por hora? \"))\n",
        "\n",
        "print(\"Trabajaste {} horas a {} pesos, deber recibir un pago de {}\".format(Horas,PagoPorHora,Horas*PagoPorHora))"
      ],
      "metadata": {
        "colab": {
          "base_uri": "https://localhost:8080/"
        },
        "id": "aoN2RMXE9Z-V",
        "outputId": "aae7d476-217d-4eb9-b5f0-8a722c1d165e"
      },
      "execution_count": null,
      "outputs": [
        {
          "output_type": "stream",
          "name": "stdout",
          "text": [
            "¿Cuantas horas trabajaste? 10\n",
            "¿Cual es tu pago por hora? 18.7\n",
            "Trabajaste 10 horas a 18.7 pesos, deber recibir un pago de 187.0\n"
          ]
        }
      ]
    },
    {
      "cell_type": "markdown",
      "source": [
        "##Ejercicio 6:\n",
        "Escribir un programa que lea un entero positivo, *n* , introducido por el usuario y después muestre en pantalla la suma de todos los enteros desde 1 hasta *n* . La suma de los  primeros enteros positivos puede ser calculada de la siguiente forma: (n*(n+1))/2"
      ],
      "metadata": {
        "id": "WrR8a5rJ-9OK"
      }
    },
    {
      "cell_type": "code",
      "source": [
        "n= int(input(\"Escribe un numero Entero mayor a cero \"))\n",
        "suma= int( (n*(n+1))/2 )\n",
        "print(\"la suma de los primeros {} numeros es : {}\".format(n,suma))"
      ],
      "metadata": {
        "colab": {
          "base_uri": "https://localhost:8080/"
        },
        "id": "XakLK5fq-khN",
        "outputId": "511118ea-00b8-40b5-ede3-48c583974d7d"
      },
      "execution_count": null,
      "outputs": [
        {
          "output_type": "stream",
          "name": "stdout",
          "text": [
            "Escribe un numero Entero mayor a cero 100\n",
            "la suma de los primeros 100 numeros es : 5050\n"
          ]
        }
      ]
    },
    {
      "cell_type": "markdown",
      "source": [
        "##Ejercicio 7:\n",
        "Escribir un programa que pida al usuario su peso (en kg) y estatura (en metros), calcule el índice de masa corporal y lo almacene en una variable, y muestre por pantalla la frase Tu índice de masa corporal es (imc) donde (imc) es el índice de masa corporal calculado redondeado con dos decimales."
      ],
      "metadata": {
        "id": "u8RCXrLiBHPQ"
      }
    },
    {
      "cell_type": "code",
      "source": [
        "Peso = float(input(\"¿Cual es tu peso (kg)? \"))\n",
        "Estatura = float(input(\"¿Cual es tu estatura (m)? \"))\n",
        "\n",
        "imc = Peso/pow(Estatura,2)\n",
        "\n",
        "print(\"Tu indice de masa corporal es: {}\".format(round(imc,2)))"
      ],
      "metadata": {
        "colab": {
          "base_uri": "https://localhost:8080/"
        },
        "id": "jrHoTJFP_z31",
        "outputId": "106d4ec9-0bc0-42c9-86b8-ff2f65ff0af6"
      },
      "execution_count": null,
      "outputs": [
        {
          "output_type": "stream",
          "name": "stdout",
          "text": [
            "¿Cual es tu peso (kg)? 70\n",
            "¿Cual es tu estatura (m)? 1.80\n",
            "Tu indice de masa corporal es: 21.6\n"
          ]
        }
      ]
    },
    {
      "cell_type": "markdown",
      "source": [
        "##Ejercicio 8:\n",
        "Escribir un programa que pida al usuario dos números enteros y muestre por pantalla la *n* entre *m* da un cociente *c* y un resto *r* donde *n* y *m* son los números introducidos por el usuario, y *c* y *r* son el cociente y el resto de la división entera respectivamente."
      ],
      "metadata": {
        "id": "tIv0jQr0DxWO"
      }
    },
    {
      "cell_type": "code",
      "source": [
        "n = int(input(\"Escribe un numero: \"))\n",
        "m = int(input(\"Escribe otro un numero: \"))\n",
        "c = n//m\n",
        "r = n%m\n",
        "print(\"{} entre {} da un cociente de {} y un residuo de {}\".format(n,m,c,r))"
      ],
      "metadata": {
        "colab": {
          "base_uri": "https://localhost:8080/"
        },
        "id": "0S6A4l_BCagN",
        "outputId": "8edc9c51-c784-4cd9-81e4-99d26f757648"
      },
      "execution_count": null,
      "outputs": [
        {
          "output_type": "stream",
          "name": "stdout",
          "text": [
            "Escribe un numero: 12\n",
            "Escribe otro un numero: 7\n",
            "12 entre 7 da un cociente de 1 y un residuo de 5\n"
          ]
        }
      ]
    },
    {
      "cell_type": "markdown",
      "source": [
        "##Ejercicio 9:\n",
        "\n",
        "Escribir un programa que pregunte al usuario una cantidad a invertir, el interés anual y el número de años, y muestre por pantalla el capital obtenido en la inversión.\n",
        "\n"
      ],
      "metadata": {
        "id": "Md2hsMZWflFF"
      }
    },
    {
      "cell_type": "code",
      "source": [
        "cantidadInicial = float(input(\"¿Cuanto dinero vas a invertir? \"))\n",
        "interesAnual = float(input(\"¿Cual es el interes anual? \"))\n",
        "periodos = int(input(\"¿En cuantos años? \"))\n",
        "\n",
        "cantidadFinal = cantidadInicial*(pow(1+interesAnual,periodos))\n",
        "\n",
        "print(\"El capital obtenido sera de: {}\".format(cantidadFinal))"
      ],
      "metadata": {
        "id": "e5T9IZ_aEzpc",
        "colab": {
          "base_uri": "https://localhost:8080/"
        },
        "outputId": "3d5c5ddc-726c-4edc-c0a8-b54d9d65f230"
      },
      "execution_count": null,
      "outputs": [
        {
          "output_type": "stream",
          "name": "stdout",
          "text": [
            "¿Cuanto dinero vas a invertir? 300250\n",
            "¿Cual es el interes anual? 0.4\n",
            "¿En cuantos años? 10\n",
            "El capital obtenido sera de: 8684871.015654394\n"
          ]
        }
      ]
    },
    {
      "cell_type": "markdown",
      "source": [
        "##Ejercicio 10:\n",
        "Una juguetería tiene mucho éxito en dos de sus productos: payasos y muñecas. Suele hacer venta por correo y la empresa de logística les cobra por peso de cada paquete así que deben calcular el peso de los payasos y muñecas que saldrán en cada paquete a demanda. Cada payaso pesa 112 g y cada muñeca 75 g. Escribir un programa que lea el número de payasos y muñecas vendidos en el último pedido y calcule el peso total del paquete que será enviado."
      ],
      "metadata": {
        "id": "waneX7yhiuWy"
      }
    },
    {
      "cell_type": "code",
      "source": [
        "PESO_PAYASO = 0.112\n",
        "PESO_MUÑECA = 0.75\n",
        "\n",
        "payasosCantidad = int(input(\"¿Cuantos payasos son? \"))\n",
        "muñecasCantidad = int(input(\"¿Cuantas muñecas son? \"))\n",
        "\n",
        "print(\"Peso total de los payasos :{} \\nPeso total de las muñecas: {}\".format(payasosCantidad*PESO_PAYASO,muñecasCantidad*PESO_MUÑECA))"
      ],
      "metadata": {
        "colab": {
          "base_uri": "https://localhost:8080/"
        },
        "id": "7LJby1K2hAUu",
        "outputId": "f792d0b5-2cae-4b09-8dc1-253db56b4dd2"
      },
      "execution_count": null,
      "outputs": [
        {
          "output_type": "stream",
          "name": "stdout",
          "text": [
            "¿Cuantos payasos son? 334\n",
            "¿Cuantas muñecas son? 455\n",
            "Peso total de los payasos :37.408 \n",
            "Peso total de las muñecas: 341.25\n"
          ]
        }
      ]
    },
    {
      "cell_type": "markdown",
      "source": [
        "##Ejercicio 11:\n",
        "Imagina que acabas de abrir una nueva cuenta de ahorros que te ofrece el 4% de interés al año. Estos ahorros debido a intereses, que no se cobran hasta finales de año, se te añaden al balance final de tu cuenta de ahorros. Escribir un programa que comience leyendo la cantidad de dinero depositada en la cuenta de ahorros, introducida por el usuario. Después el programa debe calcular y mostrar por pantalla la cantidad de ahorros tras el primer, segundo y tercer años. Redondear cada cantidad a dos decimales."
      ],
      "metadata": {
        "id": "ef3sQD1qm_oU"
      }
    },
    {
      "cell_type": "code",
      "source": [
        "depositos = int(input(\"¿Cual es la cantidad de dinero depositada? \"))\n",
        "\n",
        "CF = depositos*pow(1+(4/100),1)\n",
        "print(\"Primer año: {}\".format(round(CF,2)))\n",
        "CF = depositos*pow(1+(4/100),2)\n",
        "print(\"Segundo año: {}\".format(round(CF,2)))\n",
        "CF = depositos*pow(1+(4/100),3)\n",
        "print(\"Tercer año: {}\".format(round(CF,2)))"
      ],
      "metadata": {
        "id": "N2vacEAGknh3",
        "colab": {
          "base_uri": "https://localhost:8080/"
        },
        "outputId": "b96c4877-9589-4d57-cad7-39106c12600c"
      },
      "execution_count": null,
      "outputs": [
        {
          "output_type": "stream",
          "name": "stdout",
          "text": [
            "¿Cual es la cantidad de dinero depositada? 100\n",
            "Primer año: 104.0\n",
            "Segundo año: 108.16\n",
            "Tercer año: 112.49\n"
          ]
        }
      ]
    },
    {
      "cell_type": "markdown",
      "source": [
        "##Ejercicio 12\n",
        "Una panadería vende barras de pan a 3.49€ cada una. El pan que no es el día tiene un descuento del 60%. Escribir un programa que comience leyendo el número de barras vendidas que no son del día. Después el programa debe mostrar el precio habitual de una barra de pan, el descuento que se le hace por no ser fresca y el coste final total."
      ],
      "metadata": {
        "id": "c5RFuNG8ou8T"
      }
    },
    {
      "cell_type": "code",
      "source": [
        "barrasVendidas = int(input(\"¿Cuantas barras se vendieron? \"))\n",
        "print(\"Precio de una barra de pan es : $3.49\")\n",
        "print(\"El descuento por no ser freco es del 60%: ${} por barra\".format(round(3.49-(3.59*0.6),2)))\n",
        "print(\"Precio total sin descuento: ${}\".format(round(3.49*barrasVendidas,2)))\n",
        "print(\"Precio total sin descuento: ${}\".format(round((3.49-(3.59*0.6))*barrasVendidas,2)))"
      ],
      "metadata": {
        "colab": {
          "base_uri": "https://localhost:8080/"
        },
        "id": "6yW9BohanOz0",
        "outputId": "52649181-079a-47c0-afdf-373d1001a768"
      },
      "execution_count": null,
      "outputs": [
        {
          "output_type": "stream",
          "name": "stdout",
          "text": [
            "¿Cuantas barras se vendieron? 27\n",
            "Precio de una barra de pan es : $3.49\n",
            "El descuento por no ser freco es del 60%: $1.34 por barra\n",
            "Precio total sin descuento: $94.23\n",
            "Precio total sin descuento: $36.07\n"
          ]
        }
      ]
    }
  ]
}